{
 "cells": [
  {
   "cell_type": "code",
   "execution_count": 8,
   "metadata": {},
   "outputs": [
    {
     "name": "stdout",
     "output_type": "stream",
     "text": [
      "Probability of Fire Occurrence: 0.05\n"
     ]
    }
   ],
   "source": [
    "import joblib\n",
    "import pandas as pd\n",
    "import numpy as np\n",
    "\n",
    "model = joblib.load('model.joblib')\n",
    "\n",
    "def predict_fire_occurrence(model, state, temperature, month, east_wind, north_wind, humidity, latitude, longitude):\n",
    "    input_data = pd.DataFrame({\n",
    "        'STATE': [state],\n",
    "        'temperature(C)': [temperature],\n",
    "        'MONTH': [month],\n",
    "        'east_wind': [east_wind],\n",
    "        'north_wind': [north_wind],\n",
    "        'Humidity': [humidity],\n",
    "        'LATITUDE': [latitude],\n",
    "        'LONGITUDE': [longitude]\n",
    "    })\n",
    "    fire_occurrence_probability = model.predict_proba(input_data)[0][1]\n",
    "    return fire_occurrence_probability\n",
    "\n",
    "probability = predict_fire_occurrence(model, 'CA', 35, 7, 1, -1, 0.5, 33.482536, -112.204295)\n",
    "print(f'Probability of Fire Occurrence: {probability}')\n"
   ]
  },
  {
   "cell_type": "code",
   "execution_count": 2,
   "metadata": {},
   "outputs": [
    {
     "name": "stdout",
     "output_type": "stream",
     "text": [
      "1.2.2\n",
      "1.3.2\n"
     ]
    }
   ],
   "source": [
    "import sklearn\n",
    "print(sklearn.__version__)\n",
    "\n",
    "import joblib\n",
    "print(joblib.__version__)\n"
   ]
  }
 ],
 "metadata": {
  "kernelspec": {
   "display_name": "base",
   "language": "python",
   "name": "python3"
  },
  "language_info": {
   "codemirror_mode": {
    "name": "ipython",
    "version": 3
   },
   "file_extension": ".py",
   "mimetype": "text/x-python",
   "name": "python",
   "nbconvert_exporter": "python",
   "pygments_lexer": "ipython3",
   "version": "3.9.13"
  }
 },
 "nbformat": 4,
 "nbformat_minor": 2
}
